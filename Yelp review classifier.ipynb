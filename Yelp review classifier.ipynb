{
 "cells": [
  {
   "cell_type": "code",
   "execution_count": 1,
   "metadata": {},
   "outputs": [],
   "source": [
    "import pandas as pd\n",
    "from pandas import DataFrame\n",
    "import numpy as np\n",
    "import json\n",
    "from pandas.io.json import json_normalize\n",
    "import matplotlib.pyplot as plt\n",
    "import seaborn as sns\n",
    "import string\n",
    "import math\n",
    "from sklearn.feature_extraction.text import CountVectorizer\n",
    "from sklearn.model_selection import train_test_split, cross_val_score\n",
    "from sklearn.metrics import classification_report\n",
    "from sklearn.metrics import confusion_matrix, accuracy_score, roc_auc_score, roc_curve\n",
    "%matplotlib inline\n",
    "from sklearn.feature_extraction import stop_words\n",
    "from sklearn.feature_extraction.text import TfidfVectorizer\n",
    "from datetime import datetime\n",
    "from collections import Counter\n",
    "from sklearn.svm import LinearSVC\n",
    "import csv\n",
    "from sklearn.model_selection import train_test_split\n",
    "from sklearn.feature_extraction.text import CountVectorizer\n",
    "from sklearn.feature_extraction.text import CountVectorizer\n",
    "from sklearn.svm import LinearSVC\n",
    "pd.set_option('display.float_format', lambda x: '%.4f' % x)"
   ]
  },
  {
   "cell_type": "code",
   "execution_count": 2,
   "metadata": {},
   "outputs": [],
   "source": [
    "business = pd.read_csv('business.csv')"
   ]
  },
  {
   "cell_type": "code",
   "execution_count": 3,
   "metadata": {},
   "outputs": [
    {
     "name": "stdout",
     "output_type": "stream",
     "text": [
      "<class 'pandas.core.frame.DataFrame'>\n",
      "RangeIndex: 192609 entries, 0 to 192608\n",
      "Data columns (total 15 columns):\n",
      "Unnamed: 0      192609 non-null int64\n",
      "address         184927 non-null object\n",
      "attributes      163773 non-null object\n",
      "business_id     192609 non-null object\n",
      "categories      192127 non-null object\n",
      "city            192608 non-null object\n",
      "hours           147779 non-null object\n",
      "is_open         192609 non-null int64\n",
      "latitude        192609 non-null float64\n",
      "longitude       192609 non-null float64\n",
      "name            192609 non-null object\n",
      "postal_code     191950 non-null object\n",
      "review_count    192609 non-null int64\n",
      "stars           192609 non-null float64\n",
      "state           192609 non-null object\n",
      "dtypes: float64(3), int64(3), object(9)\n",
      "memory usage: 22.0+ MB\n"
     ]
    }
   ],
   "source": [
    "business.info()"
   ]
  },
  {
   "cell_type": "code",
   "execution_count": 4,
   "metadata": {},
   "outputs": [
    {
     "data": {
      "text/plain": [
       "4.0000    35969\n",
       "3.5000    35008\n",
       "5.0000    28216\n",
       "4.5000    27301\n",
       "3.0000    25996\n",
       "2.5000    18843\n",
       "2.0000    11426\n",
       "1.5000     4976\n",
       "1.0000     4874\n",
       "Name: stars, dtype: int64"
      ]
     },
     "execution_count": 4,
     "metadata": {},
     "output_type": "execute_result"
    }
   ],
   "source": [
    "business['stars'].value_counts()"
   ]
  },
  {
   "cell_type": "code",
   "execution_count": 5,
   "metadata": {},
   "outputs": [
    {
     "data": {
      "text/plain": [
       "<matplotlib.axes._subplots.AxesSubplot at 0x12a4c60f0>"
      ]
     },
     "execution_count": 5,
     "metadata": {},
     "output_type": "execute_result"
    },
    {
     "data": {
      "image/png": "[encoded data removed]",
      "text/plain": [
       "<Figure size 432x288 with 1 Axes>"
      ]
     },
     "metadata": {
      "needs_background": "light"
     },
     "output_type": "display_data"
    }
   ],
   "source": [
    "sns.distplot(business.stars, kde=False)"
   ]
  },
  {
   "cell_type": "code",
   "execution_count": 6,
   "metadata": {},
   "outputs": [
    {
     "data": {
      "text/html": [
       "<div>\n",
       "<style scoped>\n",
       "    .dataframe tbody tr th:only-of-type {\n",
       "        vertical-align: middle;\n",
       "    }\n",
       "\n",
       "    .dataframe tbody tr th {\n",
       "        vertical-align: top;\n",
       "    }\n",
       "\n",
       "    .dataframe thead th {\n",
       "        text-align: right;\n",
       "    }\n",
       "</style>\n",
       "<table border=\"1\" class=\"dataframe\">\n",
       "  <thead>\n",
       "    <tr style=\"text-align: right;\">\n",
       "      <th></th>\n",
       "      <th>Unnamed: 0</th>\n",
       "      <th>address</th>\n",
       "      <th>attributes</th>\n",
       "      <th>business_id</th>\n",
       "      <th>categories</th>\n",
       "      <th>city</th>\n",
       "      <th>hours</th>\n",
       "      <th>is_open</th>\n",
       "      <th>latitude</th>\n",
       "      <th>longitude</th>\n",
       "      <th>name</th>\n",
       "      <th>postal_code</th>\n",
       "      <th>review_count</th>\n",
       "      <th>stars</th>\n",
       "      <th>state</th>\n",
       "    </tr>\n",
       "  </thead>\n",
       "  <tbody>\n",
       "    <tr>\n",
       "      <th>0</th>\n",
       "      <td>0</td>\n",
       "      <td>2818 E Camino Acequia Drive</td>\n",
       "      <td>{'GoodForKids': 'False'}</td>\n",
       "      <td>1SWheh84yJXfytovILXOAQ</td>\n",
       "      <td>Golf, Active Life</td>\n",
       "      <td>Phoenix</td>\n",
       "      <td>NaN</td>\n",
       "      <td>0</td>\n",
       "      <td>33.5221</td>\n",
       "      <td>-112.0185</td>\n",
       "      <td>Arizona Biltmore Golf Club</td>\n",
       "      <td>85016</td>\n",
       "      <td>5</td>\n",
       "      <td>3.0000</td>\n",
       "      <td>AZ</td>\n",
       "    </tr>\n",
       "    <tr>\n",
       "      <th>1</th>\n",
       "      <td>1</td>\n",
       "      <td>30 Eglinton Avenue W</td>\n",
       "      <td>{'RestaurantsReservations': 'True', 'GoodForMe...</td>\n",
       "      <td>QXAEGFB4oINsVuTFxEYKFQ</td>\n",
       "      <td>Specialty Food, Restaurants, Dim Sum, Imported...</td>\n",
       "      <td>Mississauga</td>\n",
       "      <td>{'Monday': '9:0-0:0', 'Tuesday': '9:0-0:0', 'W...</td>\n",
       "      <td>1</td>\n",
       "      <td>43.6055</td>\n",
       "      <td>-79.6523</td>\n",
       "      <td>Emerald Chinese Restaurant</td>\n",
       "      <td>L5R 3E7</td>\n",
       "      <td>128</td>\n",
       "      <td>2.5000</td>\n",
       "      <td>ON</td>\n",
       "    </tr>\n",
       "    <tr>\n",
       "      <th>2</th>\n",
       "      <td>2</td>\n",
       "      <td>10110 Johnston Rd, Ste 15</td>\n",
       "      <td>{'GoodForKids': 'True', 'NoiseLevel': \"u'avera...</td>\n",
       "      <td>gnKjwL_1w79qoiV3IC_xQQ</td>\n",
       "      <td>Sushi Bars, Restaurants, Japanese</td>\n",
       "      <td>Charlotte</td>\n",
       "      <td>{'Monday': '17:30-21:30', 'Wednesday': '17:30-...</td>\n",
       "      <td>1</td>\n",
       "      <td>35.0926</td>\n",
       "      <td>-80.8591</td>\n",
       "      <td>Musashi Japanese Restaurant</td>\n",
       "      <td>28210</td>\n",
       "      <td>170</td>\n",
       "      <td>4.0000</td>\n",
       "      <td>NC</td>\n",
       "    </tr>\n",
       "    <tr>\n",
       "      <th>3</th>\n",
       "      <td>3</td>\n",
       "      <td>15655 W Roosevelt St, Ste 237</td>\n",
       "      <td>NaN</td>\n",
       "      <td>xvX2CttrVhyG2z1dFg_0xw</td>\n",
       "      <td>Insurance, Financial Services</td>\n",
       "      <td>Goodyear</td>\n",
       "      <td>{'Monday': '8:0-17:0', 'Tuesday': '8:0-17:0', ...</td>\n",
       "      <td>1</td>\n",
       "      <td>33.4556</td>\n",
       "      <td>-112.3956</td>\n",
       "      <td>Farmers Insurance - Paul Lorenz</td>\n",
       "      <td>85338</td>\n",
       "      <td>3</td>\n",
       "      <td>5.0000</td>\n",
       "      <td>AZ</td>\n",
       "    </tr>\n",
       "    <tr>\n",
       "      <th>4</th>\n",
       "      <td>4</td>\n",
       "      <td>4209 Stuart Andrew Blvd, Ste F</td>\n",
       "      <td>{'BusinessAcceptsBitcoin': 'False', 'ByAppoint...</td>\n",
       "      <td>HhyxOkGAM07SRYtlQ4wMFQ</td>\n",
       "      <td>Plumbing, Shopping, Local Services, Home Servi...</td>\n",
       "      <td>Charlotte</td>\n",
       "      <td>{'Monday': '7:0-23:0', 'Tuesday': '7:0-23:0', ...</td>\n",
       "      <td>1</td>\n",
       "      <td>35.1900</td>\n",
       "      <td>-80.8872</td>\n",
       "      <td>Queen City Plumbing</td>\n",
       "      <td>28217</td>\n",
       "      <td>4</td>\n",
       "      <td>4.0000</td>\n",
       "      <td>NC</td>\n",
       "    </tr>\n",
       "  </tbody>\n",
       "</table>\n",
       "</div>"
      ],
      "text/plain": [
       "   Unnamed: 0                         address  \\\n",
       "0           0     2818 E Camino Acequia Drive   \n",
       "1           1            30 Eglinton Avenue W   \n",
       "2           2       10110 Johnston Rd, Ste 15   \n",
       "3           3   15655 W Roosevelt St, Ste 237   \n",
       "4           4  4209 Stuart Andrew Blvd, Ste F   \n",
       "\n",
       "                                          attributes             business_id  \\\n",
       "0                           {'GoodForKids': 'False'}  1SWheh84yJXfytovILXOAQ   \n",
       "1  {'RestaurantsReservations': 'True', 'GoodForMe...  QXAEGFB4oINsVuTFxEYKFQ   \n",
       "2  {'GoodForKids': 'True', 'NoiseLevel': \"u'avera...  gnKjwL_1w79qoiV3IC_xQQ   \n",
       "3                                                NaN  xvX2CttrVhyG2z1dFg_0xw   \n",
       "4  {'BusinessAcceptsBitcoin': 'False', 'ByAppoint...  HhyxOkGAM07SRYtlQ4wMFQ   \n",
       "\n",
       "                                          categories         city  \\\n",
       "0                                  Golf, Active Life      Phoenix   \n",
       "1  Specialty Food, Restaurants, Dim Sum, Imported...  Mississauga   \n",
       "2                  Sushi Bars, Restaurants, Japanese    Charlotte   \n",
       "3                      Insurance, Financial Services     Goodyear   \n",
       "4  Plumbing, Shopping, Local Services, Home Servi...    Charlotte   \n",
       "\n",
       "                                               hours  is_open  latitude  \\\n",
       "0                                                NaN        0   33.5221   \n",
       "1  {'Monday': '9:0-0:0', 'Tuesday': '9:0-0:0', 'W...        1   43.6055   \n",
       "2  {'Monday': '17:30-21:30', 'Wednesday': '17:30-...        1   35.0926   \n",
       "3  {'Monday': '8:0-17:0', 'Tuesday': '8:0-17:0', ...        1   33.4556   \n",
       "4  {'Monday': '7:0-23:0', 'Tuesday': '7:0-23:0', ...        1   35.1900   \n",
       "\n",
       "   longitude                             name postal_code  review_count  \\\n",
       "0  -112.0185       Arizona Biltmore Golf Club       85016             5   \n",
       "1   -79.6523       Emerald Chinese Restaurant     L5R 3E7           128   \n",
       "2   -80.8591      Musashi Japanese Restaurant       28210           170   \n",
       "3  -112.3956  Farmers Insurance - Paul Lorenz       85338             3   \n",
       "4   -80.8872              Queen City Plumbing       28217             4   \n",
       "\n",
       "   stars state  \n",
       "0 3.0000    AZ  \n",
       "1 2.5000    ON  \n",
       "2 4.0000    NC  \n",
       "3 5.0000    AZ  \n",
       "4 4.0000    NC  "
      ]
     },
     "execution_count": 6,
     "metadata": {},
     "output_type": "execute_result"
    }
   ],
   "source": [
    "business.head()"
   ]
  },
  {
   "cell_type": "code",
   "execution_count": 7,
   "metadata": {},
   "outputs": [],
   "source": [
    "business.drop([\"address\", \"attributes\", 'city', 'hours', 'is_open', 'latitude', 'longitude', 'name','postal_code'\n",
    "              ], axis = 1 , inplace = True)"
   ]
  },
  {
   "cell_type": "code",
   "execution_count": 8,
   "metadata": {},
   "outputs": [
    {
     "data": {
      "text/html": [
       "<div>\n",
       "<style scoped>\n",
       "    .dataframe tbody tr th:only-of-type {\n",
       "        vertical-align: middle;\n",
       "    }\n",
       "\n",
       "    .dataframe tbody tr th {\n",
       "        vertical-align: top;\n",
       "    }\n",
       "\n",
       "    .dataframe thead th {\n",
       "        text-align: right;\n",
       "    }\n",
       "</style>\n",
       "<table border=\"1\" class=\"dataframe\">\n",
       "  <thead>\n",
       "    <tr style=\"text-align: right;\">\n",
       "      <th></th>\n",
       "      <th>Unnamed: 0</th>\n",
       "      <th>business_id</th>\n",
       "      <th>categories</th>\n",
       "      <th>review_count</th>\n",
       "      <th>stars</th>\n",
       "      <th>state</th>\n",
       "    </tr>\n",
       "  </thead>\n",
       "  <tbody>\n",
       "    <tr>\n",
       "      <th>0</th>\n",
       "      <td>0</td>\n",
       "      <td>1SWheh84yJXfytovILXOAQ</td>\n",
       "      <td>Golf, Active Life</td>\n",
       "      <td>5</td>\n",
       "      <td>3.0000</td>\n",
       "      <td>AZ</td>\n",
       "    </tr>\n",
       "    <tr>\n",
       "      <th>1</th>\n",
       "      <td>1</td>\n",
       "      <td>QXAEGFB4oINsVuTFxEYKFQ</td>\n",
       "      <td>Specialty Food, Restaurants, Dim Sum, Imported...</td>\n",
       "      <td>128</td>\n",
       "      <td>2.5000</td>\n",
       "      <td>ON</td>\n",
       "    </tr>\n",
       "    <tr>\n",
       "      <th>2</th>\n",
       "      <td>2</td>\n",
       "      <td>gnKjwL_1w79qoiV3IC_xQQ</td>\n",
       "      <td>Sushi Bars, Restaurants, Japanese</td>\n",
       "      <td>170</td>\n",
       "      <td>4.0000</td>\n",
       "      <td>NC</td>\n",
       "    </tr>\n",
       "    <tr>\n",
       "      <th>3</th>\n",
       "      <td>3</td>\n",
       "      <td>xvX2CttrVhyG2z1dFg_0xw</td>\n",
       "      <td>Insurance, Financial Services</td>\n",
       "      <td>3</td>\n",
       "      <td>5.0000</td>\n",
       "      <td>AZ</td>\n",
       "    </tr>\n",
       "    <tr>\n",
       "      <th>4</th>\n",
       "      <td>4</td>\n",
       "      <td>HhyxOkGAM07SRYtlQ4wMFQ</td>\n",
       "      <td>Plumbing, Shopping, Local Services, Home Servi...</td>\n",
       "      <td>4</td>\n",
       "      <td>4.0000</td>\n",
       "      <td>NC</td>\n",
       "    </tr>\n",
       "  </tbody>\n",
       "</table>\n",
       "</div>"
      ],
      "text/plain": [
       "   Unnamed: 0             business_id  \\\n",
       "0           0  1SWheh84yJXfytovILXOAQ   \n",
       "1           1  QXAEGFB4oINsVuTFxEYKFQ   \n",
       "2           2  gnKjwL_1w79qoiV3IC_xQQ   \n",
       "3           3  xvX2CttrVhyG2z1dFg_0xw   \n",
       "4           4  HhyxOkGAM07SRYtlQ4wMFQ   \n",
       "\n",
       "                                          categories  review_count  stars  \\\n",
       "0                                  Golf, Active Life             5 3.0000   \n",
       "1  Specialty Food, Restaurants, Dim Sum, Imported...           128 2.5000   \n",
       "2                  Sushi Bars, Restaurants, Japanese           170 4.0000   \n",
       "3                      Insurance, Financial Services             3 5.0000   \n",
       "4  Plumbing, Shopping, Local Services, Home Servi...             4 4.0000   \n",
       "\n",
       "  state  \n",
       "0    AZ  \n",
       "1    ON  \n",
       "2    NC  \n",
       "3    AZ  \n",
       "4    NC  "
      ]
     },
     "execution_count": 8,
     "metadata": {},
     "output_type": "execute_result"
    }
   ],
   "source": [
    "business.head()"
   ]
  },
  {
   "cell_type": "code",
   "execution_count": 9,
   "metadata": {},
   "outputs": [],
   "source": [
    "us_restaurants=business.loc[business['categories'].str.contains('Restaurants',na=False)]"
   ]
  },
  {
   "cell_type": "code",
   "execution_count": 10,
   "metadata": {},
   "outputs": [
    {
     "data": {
      "text/html": [
       "<div>\n",
       "<style scoped>\n",
       "    .dataframe tbody tr th:only-of-type {\n",
       "        vertical-align: middle;\n",
       "    }\n",
       "\n",
       "    .dataframe tbody tr th {\n",
       "        vertical-align: top;\n",
       "    }\n",
       "\n",
       "    .dataframe thead th {\n",
       "        text-align: right;\n",
       "    }\n",
       "</style>\n",
       "<table border=\"1\" class=\"dataframe\">\n",
       "  <thead>\n",
       "    <tr style=\"text-align: right;\">\n",
       "      <th></th>\n",
       "      <th>Unnamed: 0</th>\n",
       "      <th>business_id</th>\n",
       "      <th>categories</th>\n",
       "      <th>review_count</th>\n",
       "      <th>stars</th>\n",
       "      <th>state</th>\n",
       "    </tr>\n",
       "  </thead>\n",
       "  <tbody>\n",
       "    <tr>\n",
       "      <th>1</th>\n",
       "      <td>1</td>\n",
       "      <td>QXAEGFB4oINsVuTFxEYKFQ</td>\n",
       "      <td>Specialty Food, Restaurants, Dim Sum, Imported...</td>\n",
       "      <td>128</td>\n",
       "      <td>2.5000</td>\n",
       "      <td>ON</td>\n",
       "    </tr>\n",
       "    <tr>\n",
       "      <th>2</th>\n",
       "      <td>2</td>\n",
       "      <td>gnKjwL_1w79qoiV3IC_xQQ</td>\n",
       "      <td>Sushi Bars, Restaurants, Japanese</td>\n",
       "      <td>170</td>\n",
       "      <td>4.0000</td>\n",
       "      <td>NC</td>\n",
       "    </tr>\n",
       "    <tr>\n",
       "      <th>11</th>\n",
       "      <td>11</td>\n",
       "      <td>1Dfx3zM-rW4n-31KeC8sJg</td>\n",
       "      <td>Restaurants, Breakfast &amp; Brunch, Mexican, Taco...</td>\n",
       "      <td>18</td>\n",
       "      <td>3.0000</td>\n",
       "      <td>AZ</td>\n",
       "    </tr>\n",
       "    <tr>\n",
       "      <th>13</th>\n",
       "      <td>13</td>\n",
       "      <td>fweCYi8FmbJXHCqLnwuk8w</td>\n",
       "      <td>Italian, Restaurants, Pizza, Chicken Wings</td>\n",
       "      <td>16</td>\n",
       "      <td>4.0000</td>\n",
       "      <td>OH</td>\n",
       "    </tr>\n",
       "    <tr>\n",
       "      <th>17</th>\n",
       "      <td>17</td>\n",
       "      <td>PZ-LZzSlhSe9utkQYU8pFg</td>\n",
       "      <td>Restaurants, Italian</td>\n",
       "      <td>40</td>\n",
       "      <td>4.0000</td>\n",
       "      <td>NV</td>\n",
       "    </tr>\n",
       "    <tr>\n",
       "      <th>23</th>\n",
       "      <td>23</td>\n",
       "      <td>1RHY4K3BD22FK7Cfftn8Mg</td>\n",
       "      <td>Sandwiches, Salad, Restaurants, Burgers, Comfo...</td>\n",
       "      <td>35</td>\n",
       "      <td>4.0000</td>\n",
       "      <td>PA</td>\n",
       "    </tr>\n",
       "    <tr>\n",
       "      <th>25</th>\n",
       "      <td>25</td>\n",
       "      <td>tstimHoMcYbkSC4eBA1wEg</td>\n",
       "      <td>Mexican, Restaurants, Patisserie/Cake Shop, Fo...</td>\n",
       "      <td>184</td>\n",
       "      <td>4.5000</td>\n",
       "      <td>NV</td>\n",
       "    </tr>\n",
       "    <tr>\n",
       "      <th>29</th>\n",
       "      <td>29</td>\n",
       "      <td>NDuUMJfrWk52RA-H-OtrpA</td>\n",
       "      <td>Juice Bars &amp; Smoothies, Food, Restaurants, Fas...</td>\n",
       "      <td>57</td>\n",
       "      <td>3.0000</td>\n",
       "      <td>ON</td>\n",
       "    </tr>\n",
       "    <tr>\n",
       "      <th>32</th>\n",
       "      <td>32</td>\n",
       "      <td>SP_YXIEwkFPPl_9anCYmpQ</td>\n",
       "      <td>Restaurants, Nightlife, Breakfast &amp; Brunch, Ve...</td>\n",
       "      <td>29</td>\n",
       "      <td>3.5000</td>\n",
       "      <td>ON</td>\n",
       "    </tr>\n",
       "    <tr>\n",
       "      <th>35</th>\n",
       "      <td>35</td>\n",
       "      <td>BvYU3jvGd0TJ7IyZdfiN2Q</td>\n",
       "      <td>Sandwiches, Italian, American (Traditional), A...</td>\n",
       "      <td>16</td>\n",
       "      <td>3.5000</td>\n",
       "      <td>NC</td>\n",
       "    </tr>\n",
       "  </tbody>\n",
       "</table>\n",
       "</div>"
      ],
      "text/plain": [
       "    Unnamed: 0             business_id  \\\n",
       "1            1  QXAEGFB4oINsVuTFxEYKFQ   \n",
       "2            2  gnKjwL_1w79qoiV3IC_xQQ   \n",
       "11          11  1Dfx3zM-rW4n-31KeC8sJg   \n",
       "13          13  fweCYi8FmbJXHCqLnwuk8w   \n",
       "17          17  PZ-LZzSlhSe9utkQYU8pFg   \n",
       "23          23  1RHY4K3BD22FK7Cfftn8Mg   \n",
       "25          25  tstimHoMcYbkSC4eBA1wEg   \n",
       "29          29  NDuUMJfrWk52RA-H-OtrpA   \n",
       "32          32  SP_YXIEwkFPPl_9anCYmpQ   \n",
       "35          35  BvYU3jvGd0TJ7IyZdfiN2Q   \n",
       "\n",
       "                                           categories  review_count  stars  \\\n",
       "1   Specialty Food, Restaurants, Dim Sum, Imported...           128 2.5000   \n",
       "2                   Sushi Bars, Restaurants, Japanese           170 4.0000   \n",
       "11  Restaurants, Breakfast & Brunch, Mexican, Taco...            18 3.0000   \n",
       "13         Italian, Restaurants, Pizza, Chicken Wings            16 4.0000   \n",
       "17                               Restaurants, Italian            40 4.0000   \n",
       "23  Sandwiches, Salad, Restaurants, Burgers, Comfo...            35 4.0000   \n",
       "25  Mexican, Restaurants, Patisserie/Cake Shop, Fo...           184 4.5000   \n",
       "29  Juice Bars & Smoothies, Food, Restaurants, Fas...            57 3.0000   \n",
       "32  Restaurants, Nightlife, Breakfast & Brunch, Ve...            29 3.5000   \n",
       "35  Sandwiches, Italian, American (Traditional), A...            16 3.5000   \n",
       "\n",
       "   state  \n",
       "1     ON  \n",
       "2     NC  \n",
       "11    AZ  \n",
       "13    OH  \n",
       "17    NV  \n",
       "23    PA  \n",
       "25    NV  \n",
       "29    ON  \n",
       "32    ON  \n",
       "35    NC  "
      ]
     },
     "execution_count": 10,
     "metadata": {},
     "output_type": "execute_result"
    }
   ],
   "source": [
    "us_restaurants.head(10)\n"
   ]
  },
  {
   "cell_type": "code",
   "execution_count": 11,
   "metadata": {},
   "outputs": [
    {
     "data": {
      "text/plain": [
       "(59371, 6)"
      ]
     },
     "execution_count": 11,
     "metadata": {},
     "output_type": "execute_result"
    }
   ],
   "source": [
    "us_restaurants.shape\n"
   ]
  },
  {
   "cell_type": "code",
   "execution_count": 12,
   "metadata": {},
   "outputs": [
    {
     "data": {
      "text/plain": [
       "0"
      ]
     },
     "execution_count": 12,
     "metadata": {},
     "output_type": "execute_result"
    }
   ],
   "source": [
    "us_restaurants.business_id.duplicated().sum()"
   ]
  },
  {
   "cell_type": "code",
   "execution_count": 13,
   "metadata": {},
   "outputs": [
    {
     "name": "stdout",
     "output_type": "stream",
     "text": [
      "<class 'pandas.core.frame.DataFrame'>\n",
      "Int64Index: 59371 entries, 1 to 192603\n",
      "Data columns (total 6 columns):\n",
      "Unnamed: 0      59371 non-null int64\n",
      "business_id     59371 non-null object\n",
      "categories      59371 non-null object\n",
      "review_count    59371 non-null int64\n",
      "stars           59371 non-null float64\n",
      "state           59371 non-null object\n",
      "dtypes: float64(1), int64(2), object(3)\n",
      "memory usage: 3.2+ MB\n"
     ]
    }
   ],
   "source": [
    "us_restaurants.info()"
   ]
  },
  {
   "cell_type": "code",
   "execution_count": 14,
   "metadata": {},
   "outputs": [
    {
     "data": {
      "text/plain": [
       "Unnamed: 0      0\n",
       "business_id     0\n",
       "categories      0\n",
       "review_count    0\n",
       "stars           0\n",
       "state           0\n",
       "dtype: int64"
      ]
     },
     "execution_count": 14,
     "metadata": {},
     "output_type": "execute_result"
    }
   ],
   "source": [
    "us_restaurants.isnull().sum()"
   ]
  },
  {
   "cell_type": "code",
   "execution_count": 15,
   "metadata": {},
   "outputs": [
    {
     "name": "stderr",
     "output_type": "stream",
     "text": [
      "/Library/Frameworks/Python.framework/Versions/3.7/lib/python3.7/site-packages/IPython/core/interactiveshell.py:3020: DtypeWarning: Columns (0,2) have mixed types. Specify dtype option on import or set low_memory=False.\n",
      "  interactivity=interactivity, compiler=compiler, result=result)\n"
     ]
    }
   ],
   "source": [
    "yelp = pd.read_csv('review.csv')"
   ]
  },
  {
   "cell_type": "code",
   "execution_count": 16,
   "metadata": {},
   "outputs": [
    {
     "name": "stdout",
     "output_type": "stream",
     "text": [
      "<class 'pandas.core.frame.DataFrame'>\n",
      "RangeIndex: 6685902 entries, 0 to 6685901\n",
      "Data columns (total 10 columns):\n",
      "Unnamed: 0     object\n",
      "business_id    object\n",
      "cool           object\n",
      "date           object\n",
      "funny          float64\n",
      "review_id      object\n",
      "stars          float64\n",
      "text           object\n",
      "useful         float64\n",
      "user_id        object\n",
      "dtypes: float64(3), object(7)\n",
      "memory usage: 510.1+ MB\n"
     ]
    }
   ],
   "source": [
    "yelp.info()"
   ]
  },
  {
   "cell_type": "code",
   "execution_count": 17,
   "metadata": {},
   "outputs": [
    {
     "data": {
      "text/plain": [
       "5.0000    2933082\n",
       "4.0000    1468985\n",
       "1.0000    1002159\n",
       "3.0000     739280\n",
       "2.0000     542394\n",
       "Name: stars, dtype: int64"
      ]
     },
     "execution_count": 17,
     "metadata": {},
     "output_type": "execute_result"
    }
   ],
   "source": [
    "yelp['stars'].value_counts()"
   ]
  },
  {
   "cell_type": "code",
   "execution_count": 18,
   "metadata": {},
   "outputs": [
    {
     "data": {
      "text/plain": [
       "Unnamed: 0     0\n",
       "business_id    0\n",
       "cool           0\n",
       "date           2\n",
       "funny          2\n",
       "review_id      2\n",
       "stars          2\n",
       "text           4\n",
       "useful         4\n",
       "user_id        4\n",
       "dtype: int64"
      ]
     },
     "execution_count": 18,
     "metadata": {},
     "output_type": "execute_result"
    }
   ],
   "source": [
    "yelp.isnull().sum()"
   ]
  },
  {
   "cell_type": "code",
   "execution_count": 19,
   "metadata": {},
   "outputs": [],
   "source": [
    "## merge business table and review table\n",
    "restaurants_reviews = pd.merge(us_restaurants, yelp, on = 'business_id')"
   ]
  },
  {
   "cell_type": "code",
   "execution_count": 20,
   "metadata": {},
   "outputs": [
    {
     "name": "stdout",
     "output_type": "stream",
     "text": [
      "<class 'pandas.core.frame.DataFrame'>\n",
      "Int64Index: 4201684 entries, 0 to 4201683\n",
      "Data columns (total 15 columns):\n",
      "Unnamed: 0_x    int64\n",
      "business_id     object\n",
      "categories      object\n",
      "review_count    int64\n",
      "stars_x         float64\n",
      "state           object\n",
      "Unnamed: 0_y    object\n",
      "cool            object\n",
      "date            object\n",
      "funny           float64\n",
      "review_id       object\n",
      "stars_y         float64\n",
      "text            object\n",
      "useful          float64\n",
      "user_id         object\n",
      "dtypes: float64(4), int64(2), object(9)\n",
      "memory usage: 512.9+ MB\n"
     ]
    }
   ],
   "source": [
    "restaurants_reviews.info()"
   ]
  },
  {
   "cell_type": "code",
   "execution_count": 21,
   "metadata": {},
   "outputs": [
    {
     "data": {
      "text/html": [
       "<div>\n",
       "<style scoped>\n",
       "    .dataframe tbody tr th:only-of-type {\n",
       "        vertical-align: middle;\n",
       "    }\n",
       "\n",
       "    .dataframe tbody tr th {\n",
       "        vertical-align: top;\n",
       "    }\n",
       "\n",
       "    .dataframe thead th {\n",
       "        text-align: right;\n",
       "    }\n",
       "</style>\n",
       "<table border=\"1\" class=\"dataframe\">\n",
       "  <thead>\n",
       "    <tr style=\"text-align: right;\">\n",
       "      <th></th>\n",
       "      <th>Unnamed: 0_x</th>\n",
       "      <th>business_id</th>\n",
       "      <th>categories</th>\n",
       "      <th>review_count</th>\n",
       "      <th>stars_x</th>\n",
       "      <th>state</th>\n",
       "      <th>Unnamed: 0_y</th>\n",
       "      <th>cool</th>\n",
       "      <th>date</th>\n",
       "      <th>funny</th>\n",
       "      <th>review_id</th>\n",
       "      <th>stars_y</th>\n",
       "      <th>text</th>\n",
       "      <th>useful</th>\n",
       "      <th>user_id</th>\n",
       "    </tr>\n",
       "  </thead>\n",
       "  <tbody>\n",
       "    <tr>\n",
       "      <th>0</th>\n",
       "      <td>1</td>\n",
       "      <td>QXAEGFB4oINsVuTFxEYKFQ</td>\n",
       "      <td>Specialty Food, Restaurants, Dim Sum, Imported...</td>\n",
       "      <td>128</td>\n",
       "      <td>2.5000</td>\n",
       "      <td>ON</td>\n",
       "      <td>8609</td>\n",
       "      <td>0</td>\n",
       "      <td>2017-01-27 21:54:30</td>\n",
       "      <td>2.0000</td>\n",
       "      <td>6W0MQHmasK0IsaoDo4bmkw</td>\n",
       "      <td>3.0000</td>\n",
       "      <td>My girlfriend and I went for dinner at Emerald...</td>\n",
       "      <td>3.0000</td>\n",
       "      <td>2K62MJ4CJ19L8Tp5pRfjfQ</td>\n",
       "    </tr>\n",
       "    <tr>\n",
       "      <th>1</th>\n",
       "      <td>1</td>\n",
       "      <td>QXAEGFB4oINsVuTFxEYKFQ</td>\n",
       "      <td>Specialty Food, Restaurants, Dim Sum, Imported...</td>\n",
       "      <td>128</td>\n",
       "      <td>2.5000</td>\n",
       "      <td>ON</td>\n",
       "      <td>17253</td>\n",
       "      <td>0</td>\n",
       "      <td>2013-06-24 23:11:30</td>\n",
       "      <td>0.0000</td>\n",
       "      <td>BeeBfUxvzD4qNX4HxrgA5g</td>\n",
       "      <td>3.0000</td>\n",
       "      <td>We've always been there on a Sunday so we were...</td>\n",
       "      <td>0.0000</td>\n",
       "      <td>A0kENtCCoVT3m7T35zb2Vg</td>\n",
       "    </tr>\n",
       "    <tr>\n",
       "      <th>2</th>\n",
       "      <td>1</td>\n",
       "      <td>QXAEGFB4oINsVuTFxEYKFQ</td>\n",
       "      <td>Specialty Food, Restaurants, Dim Sum, Imported...</td>\n",
       "      <td>128</td>\n",
       "      <td>2.5000</td>\n",
       "      <td>ON</td>\n",
       "      <td>23456</td>\n",
       "      <td>0</td>\n",
       "      <td>2016-01-04 12:59:22</td>\n",
       "      <td>0.0000</td>\n",
       "      <td>A1D2kUnZ0HTroFreAheNSg</td>\n",
       "      <td>3.0000</td>\n",
       "      <td>***No automatic doors, not baby friendly!*** I...</td>\n",
       "      <td>0.0000</td>\n",
       "      <td>SuOLY03LW5ZcnynKhbTydA</td>\n",
       "    </tr>\n",
       "    <tr>\n",
       "      <th>3</th>\n",
       "      <td>1</td>\n",
       "      <td>QXAEGFB4oINsVuTFxEYKFQ</td>\n",
       "      <td>Specialty Food, Restaurants, Dim Sum, Imported...</td>\n",
       "      <td>128</td>\n",
       "      <td>2.5000</td>\n",
       "      <td>ON</td>\n",
       "      <td>24704</td>\n",
       "      <td>0</td>\n",
       "      <td>2014-05-09 02:38:43</td>\n",
       "      <td>0.0000</td>\n",
       "      <td>2pf45Stf-pNew-xgTababQ</td>\n",
       "      <td>1.0000</td>\n",
       "      <td>Horrible service,\\nI went there tonight with m...</td>\n",
       "      <td>1.0000</td>\n",
       "      <td>lymyUak6KNcNKoDbK87MiQ</td>\n",
       "    </tr>\n",
       "    <tr>\n",
       "      <th>4</th>\n",
       "      <td>1</td>\n",
       "      <td>QXAEGFB4oINsVuTFxEYKFQ</td>\n",
       "      <td>Specialty Food, Restaurants, Dim Sum, Imported...</td>\n",
       "      <td>128</td>\n",
       "      <td>2.5000</td>\n",
       "      <td>ON</td>\n",
       "      <td>30636</td>\n",
       "      <td>2</td>\n",
       "      <td>2011-03-21 14:39:55</td>\n",
       "      <td>1.0000</td>\n",
       "      <td>RHhlmL07evgAdPaXQV8Omg</td>\n",
       "      <td>4.0000</td>\n",
       "      <td>One of the gauges of a good Chinese restaurant...</td>\n",
       "      <td>2.0000</td>\n",
       "      <td>6vU0I5XgCv9OQHZ76rV6qw</td>\n",
       "    </tr>\n",
       "  </tbody>\n",
       "</table>\n",
       "</div>"
      ],
      "text/plain": [
       "   Unnamed: 0_x             business_id  \\\n",
       "0             1  QXAEGFB4oINsVuTFxEYKFQ   \n",
       "1             1  QXAEGFB4oINsVuTFxEYKFQ   \n",
       "2             1  QXAEGFB4oINsVuTFxEYKFQ   \n",
       "3             1  QXAEGFB4oINsVuTFxEYKFQ   \n",
       "4             1  QXAEGFB4oINsVuTFxEYKFQ   \n",
       "\n",
       "                                          categories  review_count  stars_x  \\\n",
       "0  Specialty Food, Restaurants, Dim Sum, Imported...           128   2.5000   \n",
       "1  Specialty Food, Restaurants, Dim Sum, Imported...           128   2.5000   \n",
       "2  Specialty Food, Restaurants, Dim Sum, Imported...           128   2.5000   \n",
       "3  Specialty Food, Restaurants, Dim Sum, Imported...           128   2.5000   \n",
       "4  Specialty Food, Restaurants, Dim Sum, Imported...           128   2.5000   \n",
       "\n",
       "  state Unnamed: 0_y cool                 date  funny               review_id  \\\n",
       "0    ON         8609    0  2017-01-27 21:54:30 2.0000  6W0MQHmasK0IsaoDo4bmkw   \n",
       "1    ON        17253    0  2013-06-24 23:11:30 0.0000  BeeBfUxvzD4qNX4HxrgA5g   \n",
       "2    ON        23456    0  2016-01-04 12:59:22 0.0000  A1D2kUnZ0HTroFreAheNSg   \n",
       "3    ON        24704    0  2014-05-09 02:38:43 0.0000  2pf45Stf-pNew-xgTababQ   \n",
       "4    ON        30636    2  2011-03-21 14:39:55 1.0000  RHhlmL07evgAdPaXQV8Omg   \n",
       "\n",
       "   stars_y                                               text  useful  \\\n",
       "0   3.0000  My girlfriend and I went for dinner at Emerald...  3.0000   \n",
       "1   3.0000  We've always been there on a Sunday so we were...  0.0000   \n",
       "2   3.0000  ***No automatic doors, not baby friendly!*** I...  0.0000   \n",
       "3   1.0000  Horrible service,\\nI went there tonight with m...  1.0000   \n",
       "4   4.0000  One of the gauges of a good Chinese restaurant...  2.0000   \n",
       "\n",
       "                  user_id  \n",
       "0  2K62MJ4CJ19L8Tp5pRfjfQ  \n",
       "1  A0kENtCCoVT3m7T35zb2Vg  \n",
       "2  SuOLY03LW5ZcnynKhbTydA  \n",
       "3  lymyUak6KNcNKoDbK87MiQ  \n",
       "4  6vU0I5XgCv9OQHZ76rV6qw  "
      ]
     },
     "execution_count": 21,
     "metadata": {},
     "output_type": "execute_result"
    }
   ],
   "source": [
    "restaurants_reviews.head()"
   ]
  },
  {
   "cell_type": "code",
   "execution_count": null,
   "metadata": {},
   "outputs": [],
   "source": [
    "result = restaurants_reviews.dropna(subset=['text', 'stars_y'])"
   ]
  },
  {
   "cell_type": "code",
   "execution_count": 23,
   "metadata": {},
   "outputs": [
    {
     "name": "stderr",
     "output_type": "stream",
     "text": [
      "/Library/Frameworks/Python.framework/Versions/3.7/lib/python3.7/site-packages/ipykernel_launcher.py:3: SettingWithCopyWarning: \n",
      "A value is trying to be set on a copy of a slice from a DataFrame.\n",
      "Try using .loc[row_indexer,col_indexer] = value instead\n",
      "\n",
      "See the caveats in the documentation: http://pandas.pydata.org/pandas-docs/stable/indexing.html#indexing-view-versus-copy\n",
      "  This is separate from the ipykernel package so we can avoid doing imports until\n"
     ]
    }
   ],
   "source": [
    "## add column of number of words in review and label of negative and postive reviews\n",
    "result['num_words_review'] = result.text.str.replace('\\n',''). \\\n",
    "                                          str.replace('[!\"#$%&\\()*+,-./:;<=>?@[\\\\]^_`{|}~]','').map(lambda x: len(x.split()))"
   ]
  },
  {
   "cell_type": "code",
   "execution_count": 24,
   "metadata": {},
   "outputs": [
    {
     "name": "stderr",
     "output_type": "stream",
     "text": [
      "/Library/Frameworks/Python.framework/Versions/3.7/lib/python3.7/site-packages/ipykernel_launcher.py:2: SettingWithCopyWarning: \n",
      "A value is trying to be set on a copy of a slice from a DataFrame.\n",
      "Try using .loc[row_indexer,col_indexer] = value instead\n",
      "\n",
      "See the caveats in the documentation: http://pandas.pydata.org/pandas-docs/stable/indexing.html#indexing-view-versus-copy\n",
      "  \n",
      "/Library/Frameworks/Python.framework/Versions/3.7/lib/python3.7/site-packages/pandas/core/indexing.py:543: SettingWithCopyWarning: \n",
      "A value is trying to be set on a copy of a slice from a DataFrame.\n",
      "Try using .loc[row_indexer,col_indexer] = value instead\n",
      "\n",
      "See the caveats in the documentation: http://pandas.pydata.org/pandas-docs/stable/indexing.html#indexing-view-versus-copy\n",
      "  self.obj[item] = s\n"
     ]
    }
   ],
   "source": [
    "# label reviews as positive or negative\n",
    "result['labels'] = ''\n",
    "result.loc[result.stars_y >=4, 'labels'] = 'positive'\n",
    "result.loc[result.stars_y ==3, 'labels'] = 'neutral'\n",
    "result.loc[result.stars_y <3, 'labels'] = 'negative'"
   ]
  },
  {
   "cell_type": "code",
   "execution_count": 25,
   "metadata": {},
   "outputs": [
    {
     "data": {
      "text/html": [
       "<div>\n",
       "<style scoped>\n",
       "    .dataframe tbody tr th:only-of-type {\n",
       "        vertical-align: middle;\n",
       "    }\n",
       "\n",
       "    .dataframe tbody tr th {\n",
       "        vertical-align: top;\n",
       "    }\n",
       "\n",
       "    .dataframe thead th {\n",
       "        text-align: right;\n",
       "    }\n",
       "</style>\n",
       "<table border=\"1\" class=\"dataframe\">\n",
       "  <thead>\n",
       "    <tr style=\"text-align: right;\">\n",
       "      <th></th>\n",
       "      <th>Unnamed: 0_x</th>\n",
       "      <th>business_id</th>\n",
       "      <th>categories</th>\n",
       "      <th>review_count</th>\n",
       "      <th>stars_x</th>\n",
       "      <th>state</th>\n",
       "      <th>Unnamed: 0_y</th>\n",
       "      <th>cool</th>\n",
       "      <th>date</th>\n",
       "      <th>funny</th>\n",
       "      <th>review_id</th>\n",
       "      <th>stars_y</th>\n",
       "      <th>text</th>\n",
       "      <th>useful</th>\n",
       "      <th>user_id</th>\n",
       "      <th>num_words_review</th>\n",
       "      <th>labels</th>\n",
       "    </tr>\n",
       "  </thead>\n",
       "  <tbody>\n",
       "    <tr>\n",
       "      <th>0</th>\n",
       "      <td>1</td>\n",
       "      <td>QXAEGFB4oINsVuTFxEYKFQ</td>\n",
       "      <td>Specialty Food, Restaurants, Dim Sum, Imported...</td>\n",
       "      <td>128</td>\n",
       "      <td>2.5000</td>\n",
       "      <td>ON</td>\n",
       "      <td>8609</td>\n",
       "      <td>0</td>\n",
       "      <td>2017-01-27 21:54:30</td>\n",
       "      <td>2.0000</td>\n",
       "      <td>6W0MQHmasK0IsaoDo4bmkw</td>\n",
       "      <td>3.0000</td>\n",
       "      <td>My girlfriend and I went for dinner at Emerald...</td>\n",
       "      <td>3.0000</td>\n",
       "      <td>2K62MJ4CJ19L8Tp5pRfjfQ</td>\n",
       "      <td>228</td>\n",
       "      <td>neutral</td>\n",
       "    </tr>\n",
       "    <tr>\n",
       "      <th>1</th>\n",
       "      <td>1</td>\n",
       "      <td>QXAEGFB4oINsVuTFxEYKFQ</td>\n",
       "      <td>Specialty Food, Restaurants, Dim Sum, Imported...</td>\n",
       "      <td>128</td>\n",
       "      <td>2.5000</td>\n",
       "      <td>ON</td>\n",
       "      <td>17253</td>\n",
       "      <td>0</td>\n",
       "      <td>2013-06-24 23:11:30</td>\n",
       "      <td>0.0000</td>\n",
       "      <td>BeeBfUxvzD4qNX4HxrgA5g</td>\n",
       "      <td>3.0000</td>\n",
       "      <td>We've always been there on a Sunday so we were...</td>\n",
       "      <td>0.0000</td>\n",
       "      <td>A0kENtCCoVT3m7T35zb2Vg</td>\n",
       "      <td>84</td>\n",
       "      <td>neutral</td>\n",
       "    </tr>\n",
       "    <tr>\n",
       "      <th>2</th>\n",
       "      <td>1</td>\n",
       "      <td>QXAEGFB4oINsVuTFxEYKFQ</td>\n",
       "      <td>Specialty Food, Restaurants, Dim Sum, Imported...</td>\n",
       "      <td>128</td>\n",
       "      <td>2.5000</td>\n",
       "      <td>ON</td>\n",
       "      <td>23456</td>\n",
       "      <td>0</td>\n",
       "      <td>2016-01-04 12:59:22</td>\n",
       "      <td>0.0000</td>\n",
       "      <td>A1D2kUnZ0HTroFreAheNSg</td>\n",
       "      <td>3.0000</td>\n",
       "      <td>***No automatic doors, not baby friendly!*** I...</td>\n",
       "      <td>0.0000</td>\n",
       "      <td>SuOLY03LW5ZcnynKhbTydA</td>\n",
       "      <td>43</td>\n",
       "      <td>neutral</td>\n",
       "    </tr>\n",
       "    <tr>\n",
       "      <th>3</th>\n",
       "      <td>1</td>\n",
       "      <td>QXAEGFB4oINsVuTFxEYKFQ</td>\n",
       "      <td>Specialty Food, Restaurants, Dim Sum, Imported...</td>\n",
       "      <td>128</td>\n",
       "      <td>2.5000</td>\n",
       "      <td>ON</td>\n",
       "      <td>24704</td>\n",
       "      <td>0</td>\n",
       "      <td>2014-05-09 02:38:43</td>\n",
       "      <td>0.0000</td>\n",
       "      <td>2pf45Stf-pNew-xgTababQ</td>\n",
       "      <td>1.0000</td>\n",
       "      <td>Horrible service,\\nI went there tonight with m...</td>\n",
       "      <td>1.0000</td>\n",
       "      <td>lymyUak6KNcNKoDbK87MiQ</td>\n",
       "      <td>219</td>\n",
       "      <td>negative</td>\n",
       "    </tr>\n",
       "    <tr>\n",
       "      <th>4</th>\n",
       "      <td>1</td>\n",
       "      <td>QXAEGFB4oINsVuTFxEYKFQ</td>\n",
       "      <td>Specialty Food, Restaurants, Dim Sum, Imported...</td>\n",
       "      <td>128</td>\n",
       "      <td>2.5000</td>\n",
       "      <td>ON</td>\n",
       "      <td>30636</td>\n",
       "      <td>2</td>\n",
       "      <td>2011-03-21 14:39:55</td>\n",
       "      <td>1.0000</td>\n",
       "      <td>RHhlmL07evgAdPaXQV8Omg</td>\n",
       "      <td>4.0000</td>\n",
       "      <td>One of the gauges of a good Chinese restaurant...</td>\n",
       "      <td>2.0000</td>\n",
       "      <td>6vU0I5XgCv9OQHZ76rV6qw</td>\n",
       "      <td>314</td>\n",
       "      <td>positive</td>\n",
       "    </tr>\n",
       "  </tbody>\n",
       "</table>\n",
       "</div>"
      ],
      "text/plain": [
       "   Unnamed: 0_x             business_id  \\\n",
       "0             1  QXAEGFB4oINsVuTFxEYKFQ   \n",
       "1             1  QXAEGFB4oINsVuTFxEYKFQ   \n",
       "2             1  QXAEGFB4oINsVuTFxEYKFQ   \n",
       "3             1  QXAEGFB4oINsVuTFxEYKFQ   \n",
       "4             1  QXAEGFB4oINsVuTFxEYKFQ   \n",
       "\n",
       "                                          categories  review_count  stars_x  \\\n",
       "0  Specialty Food, Restaurants, Dim Sum, Imported...           128   2.5000   \n",
       "1  Specialty Food, Restaurants, Dim Sum, Imported...           128   2.5000   \n",
       "2  Specialty Food, Restaurants, Dim Sum, Imported...           128   2.5000   \n",
       "3  Specialty Food, Restaurants, Dim Sum, Imported...           128   2.5000   \n",
       "4  Specialty Food, Restaurants, Dim Sum, Imported...           128   2.5000   \n",
       "\n",
       "  state Unnamed: 0_y cool                 date  funny               review_id  \\\n",
       "0    ON         8609    0  2017-01-27 21:54:30 2.0000  6W0MQHmasK0IsaoDo4bmkw   \n",
       "1    ON        17253    0  2013-06-24 23:11:30 0.0000  BeeBfUxvzD4qNX4HxrgA5g   \n",
       "2    ON        23456    0  2016-01-04 12:59:22 0.0000  A1D2kUnZ0HTroFreAheNSg   \n",
       "3    ON        24704    0  2014-05-09 02:38:43 0.0000  2pf45Stf-pNew-xgTababQ   \n",
       "4    ON        30636    2  2011-03-21 14:39:55 1.0000  RHhlmL07evgAdPaXQV8Omg   \n",
       "\n",
       "   stars_y                                               text  useful  \\\n",
       "0   3.0000  My girlfriend and I went for dinner at Emerald...  3.0000   \n",
       "1   3.0000  We've always been there on a Sunday so we were...  0.0000   \n",
       "2   3.0000  ***No automatic doors, not baby friendly!*** I...  0.0000   \n",
       "3   1.0000  Horrible service,\\nI went there tonight with m...  1.0000   \n",
       "4   4.0000  One of the gauges of a good Chinese restaurant...  2.0000   \n",
       "\n",
       "                  user_id  num_words_review    labels  \n",
       "0  2K62MJ4CJ19L8Tp5pRfjfQ               228   neutral  \n",
       "1  A0kENtCCoVT3m7T35zb2Vg                84   neutral  \n",
       "2  SuOLY03LW5ZcnynKhbTydA                43   neutral  \n",
       "3  lymyUak6KNcNKoDbK87MiQ               219  negative  \n",
       "4  6vU0I5XgCv9OQHZ76rV6qw               314  positive  "
      ]
     },
     "execution_count": 25,
     "metadata": {},
     "output_type": "execute_result"
    }
   ],
   "source": [
    "result.head()"
   ]
  },
  {
   "cell_type": "code",
   "execution_count": 26,
   "metadata": {},
   "outputs": [
    {
     "name": "stdout",
     "output_type": "stream",
     "text": [
      "<class 'pandas.core.frame.DataFrame'>\n",
      "Int64Index: 4201683 entries, 0 to 4201683\n",
      "Data columns (total 17 columns):\n",
      "Unnamed: 0_x        int64\n",
      "business_id         object\n",
      "categories          object\n",
      "review_count        int64\n",
      "stars_x             float64\n",
      "state               object\n",
      "Unnamed: 0_y        object\n",
      "cool                object\n",
      "date                object\n",
      "funny               float64\n",
      "review_id           object\n",
      "stars_y             float64\n",
      "text                object\n",
      "useful              float64\n",
      "user_id             object\n",
      "num_words_review    int64\n",
      "labels              object\n",
      "dtypes: float64(4), int64(3), object(10)\n",
      "memory usage: 577.0+ MB\n"
     ]
    }
   ],
   "source": [
    "result.info()"
   ]
  },
  {
   "cell_type": "code",
   "execution_count": 27,
   "metadata": {},
   "outputs": [
    {
     "name": "stderr",
     "output_type": "stream",
     "text": [
      "/Library/Frameworks/Python.framework/Versions/3.7/lib/python3.7/site-packages/pandas/core/generic.py:5086: SettingWithCopyWarning: \n",
      "A value is trying to be set on a copy of a slice from a DataFrame.\n",
      "Try using .loc[row_indexer,col_indexer] = value instead\n",
      "\n",
      "See the caveats in the documentation: http://pandas.pydata.org/pandas-docs/stable/indexing.html#indexing-view-versus-copy\n",
      "  self[name] = value\n",
      "/Library/Frameworks/Python.framework/Versions/3.7/lib/python3.7/site-packages/ipykernel_launcher.py:6: SettingWithCopyWarning: \n",
      "A value is trying to be set on a copy of a slice from a DataFrame.\n",
      "Try using .loc[row_indexer,col_indexer] = value instead\n",
      "\n",
      "See the caveats in the documentation: http://pandas.pydata.org/pandas-docs/stable/indexing.html#indexing-view-versus-copy\n",
      "  \n"
     ]
    }
   ],
   "source": [
    "## convert text to lower case\n",
    "result.text = result.text.str.lower()\n",
    "\n",
    "## remove unnecessary punctuation\n",
    "result['removed_punct_text']= result.text.str.replace('\\n',''). \\\n",
    "                                          str.replace('[!\"#$%&\\()*+,-./:;<=>?@[\\\\]^_`{|}~]','')"
   ]
  },
  {
   "cell_type": "code",
   "execution_count": 28,
   "metadata": {},
   "outputs": [],
   "source": [
    "## import negative file which contains common meaningless positive words such as bad\n",
    "file_negative = open('negative.txt')\n",
    "reader =csv.reader(file_negative)\n",
    "negative_words = [word[0] for word in reader]"
   ]
  },
  {
   "cell_type": "code",
   "execution_count": 29,
   "metadata": {},
   "outputs": [],
   "source": [
    "## import positive file which contains common meaningless positive words such as good\n",
    "file_positive = open('positive.txt')\n",
    "reader =csv.reader(file_positive)\n",
    "positive_words = [word[0] for word in reader]"
   ]
  },
  {
   "cell_type": "code",
   "execution_count": 30,
   "metadata": {},
   "outputs": [],
   "source": [
    "## get dataset by category\n",
    "def get_dataset(category):\n",
    "    df = result[['removed_punct_text','labels']][result.category==category]\n",
    "    df.reset_index(drop=True, inplace =True)\n",
    "    df.rename(columns={'removed_punct_text':'text'}, inplace=True)\n",
    "    return df\n",
    "\n",
    "\n",
    "\n",
    "## only keep positive and negative words\n",
    "def filter_words(review):\n",
    "    words = [word for word in review.split() if word in positive_words + negative_words]\n",
    "    words = ' '.join(words)\n",
    "    return words"
   ]
  },
  {
   "cell_type": "code",
   "execution_count": 31,
   "metadata": {},
   "outputs": [
    {
     "name": "stderr",
     "output_type": "stream",
     "text": [
      "/Library/Frameworks/Python.framework/Versions/3.7/lib/python3.7/site-packages/ipykernel_launcher.py:1: SettingWithCopyWarning: \n",
      "A value is trying to be set on a copy of a slice from a DataFrame.\n",
      "Try using .loc[row_indexer,col_indexer] = value instead\n",
      "\n",
      "See the caveats in the documentation: http://pandas.pydata.org/pandas-docs/stable/indexing.html#indexing-view-versus-copy\n",
      "  \"\"\"Entry point for launching an IPython kernel.\n"
     ]
    },
    {
     "data": {
      "text/html": [
       "<div>\n",
       "<style scoped>\n",
       "    .dataframe tbody tr th:only-of-type {\n",
       "        vertical-align: middle;\n",
       "    }\n",
       "\n",
       "    .dataframe tbody tr th {\n",
       "        vertical-align: top;\n",
       "    }\n",
       "\n",
       "    .dataframe thead th {\n",
       "        text-align: right;\n",
       "    }\n",
       "</style>\n",
       "<table border=\"1\" class=\"dataframe\">\n",
       "  <thead>\n",
       "    <tr style=\"text-align: right;\">\n",
       "      <th></th>\n",
       "      <th>Unnamed: 0_x</th>\n",
       "      <th>business_id</th>\n",
       "      <th>categories</th>\n",
       "      <th>review_count</th>\n",
       "      <th>stars_x</th>\n",
       "      <th>state</th>\n",
       "      <th>Unnamed: 0_y</th>\n",
       "      <th>cool</th>\n",
       "      <th>date</th>\n",
       "      <th>funny</th>\n",
       "      <th>review_id</th>\n",
       "      <th>stars_y</th>\n",
       "      <th>text</th>\n",
       "      <th>useful</th>\n",
       "      <th>user_id</th>\n",
       "      <th>num_words_review</th>\n",
       "      <th>labels</th>\n",
       "      <th>removed_punct_text</th>\n",
       "      <th>text length</th>\n",
       "    </tr>\n",
       "  </thead>\n",
       "  <tbody>\n",
       "    <tr>\n",
       "      <th>0</th>\n",
       "      <td>1</td>\n",
       "      <td>QXAEGFB4oINsVuTFxEYKFQ</td>\n",
       "      <td>Specialty Food, Restaurants, Dim Sum, Imported...</td>\n",
       "      <td>128</td>\n",
       "      <td>2.5000</td>\n",
       "      <td>ON</td>\n",
       "      <td>8609</td>\n",
       "      <td>0</td>\n",
       "      <td>2017-01-27 21:54:30</td>\n",
       "      <td>2.0000</td>\n",
       "      <td>6W0MQHmasK0IsaoDo4bmkw</td>\n",
       "      <td>3.0000</td>\n",
       "      <td>my girlfriend and i went for dinner at emerald...</td>\n",
       "      <td>3.0000</td>\n",
       "      <td>2K62MJ4CJ19L8Tp5pRfjfQ</td>\n",
       "      <td>228</td>\n",
       "      <td>neutral</td>\n",
       "      <td>my girlfriend and i went for dinner at emerald...</td>\n",
       "      <td>1414</td>\n",
       "    </tr>\n",
       "    <tr>\n",
       "      <th>1</th>\n",
       "      <td>1</td>\n",
       "      <td>QXAEGFB4oINsVuTFxEYKFQ</td>\n",
       "      <td>Specialty Food, Restaurants, Dim Sum, Imported...</td>\n",
       "      <td>128</td>\n",
       "      <td>2.5000</td>\n",
       "      <td>ON</td>\n",
       "      <td>17253</td>\n",
       "      <td>0</td>\n",
       "      <td>2013-06-24 23:11:30</td>\n",
       "      <td>0.0000</td>\n",
       "      <td>BeeBfUxvzD4qNX4HxrgA5g</td>\n",
       "      <td>3.0000</td>\n",
       "      <td>we've always been there on a sunday so we were...</td>\n",
       "      <td>0.0000</td>\n",
       "      <td>A0kENtCCoVT3m7T35zb2Vg</td>\n",
       "      <td>84</td>\n",
       "      <td>neutral</td>\n",
       "      <td>we've always been there on a sunday so we were...</td>\n",
       "      <td>430</td>\n",
       "    </tr>\n",
       "    <tr>\n",
       "      <th>2</th>\n",
       "      <td>1</td>\n",
       "      <td>QXAEGFB4oINsVuTFxEYKFQ</td>\n",
       "      <td>Specialty Food, Restaurants, Dim Sum, Imported...</td>\n",
       "      <td>128</td>\n",
       "      <td>2.5000</td>\n",
       "      <td>ON</td>\n",
       "      <td>23456</td>\n",
       "      <td>0</td>\n",
       "      <td>2016-01-04 12:59:22</td>\n",
       "      <td>0.0000</td>\n",
       "      <td>A1D2kUnZ0HTroFreAheNSg</td>\n",
       "      <td>3.0000</td>\n",
       "      <td>***no automatic doors, not baby friendly!*** i...</td>\n",
       "      <td>0.0000</td>\n",
       "      <td>SuOLY03LW5ZcnynKhbTydA</td>\n",
       "      <td>43</td>\n",
       "      <td>neutral</td>\n",
       "      <td>no automatic doors not baby friendly i frequen...</td>\n",
       "      <td>235</td>\n",
       "    </tr>\n",
       "    <tr>\n",
       "      <th>3</th>\n",
       "      <td>1</td>\n",
       "      <td>QXAEGFB4oINsVuTFxEYKFQ</td>\n",
       "      <td>Specialty Food, Restaurants, Dim Sum, Imported...</td>\n",
       "      <td>128</td>\n",
       "      <td>2.5000</td>\n",
       "      <td>ON</td>\n",
       "      <td>24704</td>\n",
       "      <td>0</td>\n",
       "      <td>2014-05-09 02:38:43</td>\n",
       "      <td>0.0000</td>\n",
       "      <td>2pf45Stf-pNew-xgTababQ</td>\n",
       "      <td>1.0000</td>\n",
       "      <td>horrible service,\\ni went there tonight with m...</td>\n",
       "      <td>1.0000</td>\n",
       "      <td>lymyUak6KNcNKoDbK87MiQ</td>\n",
       "      <td>219</td>\n",
       "      <td>negative</td>\n",
       "      <td>horrible servicei went there tonight with my b...</td>\n",
       "      <td>1092</td>\n",
       "    </tr>\n",
       "    <tr>\n",
       "      <th>4</th>\n",
       "      <td>1</td>\n",
       "      <td>QXAEGFB4oINsVuTFxEYKFQ</td>\n",
       "      <td>Specialty Food, Restaurants, Dim Sum, Imported...</td>\n",
       "      <td>128</td>\n",
       "      <td>2.5000</td>\n",
       "      <td>ON</td>\n",
       "      <td>30636</td>\n",
       "      <td>2</td>\n",
       "      <td>2011-03-21 14:39:55</td>\n",
       "      <td>1.0000</td>\n",
       "      <td>RHhlmL07evgAdPaXQV8Omg</td>\n",
       "      <td>4.0000</td>\n",
       "      <td>one of the gauges of a good chinese restaurant...</td>\n",
       "      <td>2.0000</td>\n",
       "      <td>6vU0I5XgCv9OQHZ76rV6qw</td>\n",
       "      <td>314</td>\n",
       "      <td>positive</td>\n",
       "      <td>one of the gauges of a good chinese restaurant...</td>\n",
       "      <td>1614</td>\n",
       "    </tr>\n",
       "  </tbody>\n",
       "</table>\n",
       "</div>"
      ],
      "text/plain": [
       "   Unnamed: 0_x             business_id  \\\n",
       "0             1  QXAEGFB4oINsVuTFxEYKFQ   \n",
       "1             1  QXAEGFB4oINsVuTFxEYKFQ   \n",
       "2             1  QXAEGFB4oINsVuTFxEYKFQ   \n",
       "3             1  QXAEGFB4oINsVuTFxEYKFQ   \n",
       "4             1  QXAEGFB4oINsVuTFxEYKFQ   \n",
       "\n",
       "                                          categories  review_count  stars_x  \\\n",
       "0  Specialty Food, Restaurants, Dim Sum, Imported...           128   2.5000   \n",
       "1  Specialty Food, Restaurants, Dim Sum, Imported...           128   2.5000   \n",
       "2  Specialty Food, Restaurants, Dim Sum, Imported...           128   2.5000   \n",
       "3  Specialty Food, Restaurants, Dim Sum, Imported...           128   2.5000   \n",
       "4  Specialty Food, Restaurants, Dim Sum, Imported...           128   2.5000   \n",
       "\n",
       "  state Unnamed: 0_y cool                 date  funny               review_id  \\\n",
       "0    ON         8609    0  2017-01-27 21:54:30 2.0000  6W0MQHmasK0IsaoDo4bmkw   \n",
       "1    ON        17253    0  2013-06-24 23:11:30 0.0000  BeeBfUxvzD4qNX4HxrgA5g   \n",
       "2    ON        23456    0  2016-01-04 12:59:22 0.0000  A1D2kUnZ0HTroFreAheNSg   \n",
       "3    ON        24704    0  2014-05-09 02:38:43 0.0000  2pf45Stf-pNew-xgTababQ   \n",
       "4    ON        30636    2  2011-03-21 14:39:55 1.0000  RHhlmL07evgAdPaXQV8Omg   \n",
       "\n",
       "   stars_y                                               text  useful  \\\n",
       "0   3.0000  my girlfriend and i went for dinner at emerald...  3.0000   \n",
       "1   3.0000  we've always been there on a sunday so we were...  0.0000   \n",
       "2   3.0000  ***no automatic doors, not baby friendly!*** i...  0.0000   \n",
       "3   1.0000  horrible service,\\ni went there tonight with m...  1.0000   \n",
       "4   4.0000  one of the gauges of a good chinese restaurant...  2.0000   \n",
       "\n",
       "                  user_id  num_words_review    labels  \\\n",
       "0  2K62MJ4CJ19L8Tp5pRfjfQ               228   neutral   \n",
       "1  A0kENtCCoVT3m7T35zb2Vg                84   neutral   \n",
       "2  SuOLY03LW5ZcnynKhbTydA                43   neutral   \n",
       "3  lymyUak6KNcNKoDbK87MiQ               219  negative   \n",
       "4  6vU0I5XgCv9OQHZ76rV6qw               314  positive   \n",
       "\n",
       "                                  removed_punct_text  text length  \n",
       "0  my girlfriend and i went for dinner at emerald...         1414  \n",
       "1  we've always been there on a sunday so we were...          430  \n",
       "2  no automatic doors not baby friendly i frequen...          235  \n",
       "3  horrible servicei went there tonight with my b...         1092  \n",
       "4  one of the gauges of a good chinese restaurant...         1614  "
      ]
     },
     "execution_count": 31,
     "metadata": {},
     "output_type": "execute_result"
    }
   ],
   "source": [
    "result['text length'] = result['removed_punct_text'].map(str).apply(len)\n",
    "result.head()"
   ]
  },
  {
   "cell_type": "code",
   "execution_count": 52,
   "metadata": {},
   "outputs": [
    {
     "data": {
      "text/html": [
       "<div>\n",
       "<style scoped>\n",
       "    .dataframe tbody tr th:only-of-type {\n",
       "        vertical-align: middle;\n",
       "    }\n",
       "\n",
       "    .dataframe tbody tr th {\n",
       "        vertical-align: top;\n",
       "    }\n",
       "\n",
       "    .dataframe thead th {\n",
       "        text-align: right;\n",
       "    }\n",
       "</style>\n",
       "<table border=\"1\" class=\"dataframe\">\n",
       "  <thead>\n",
       "    <tr style=\"text-align: right;\">\n",
       "      <th></th>\n",
       "      <th>Unnamed: 0_x</th>\n",
       "      <th>review_count</th>\n",
       "      <th>stars_x</th>\n",
       "      <th>funny</th>\n",
       "      <th>stars_y</th>\n",
       "      <th>useful</th>\n",
       "      <th>num_words_review</th>\n",
       "      <th>text length</th>\n",
       "    </tr>\n",
       "  </thead>\n",
       "  <tbody>\n",
       "    <tr>\n",
       "      <th>count</th>\n",
       "      <td>4201683.0000</td>\n",
       "      <td>4201683.0000</td>\n",
       "      <td>4201683.0000</td>\n",
       "      <td>4201683.0000</td>\n",
       "      <td>4201683.0000</td>\n",
       "      <td>4201682.0000</td>\n",
       "      <td>4201683.0000</td>\n",
       "      <td>4201683.0000</td>\n",
       "    </tr>\n",
       "    <tr>\n",
       "      <th>mean</th>\n",
       "      <td>96644.3092</td>\n",
       "      <td>522.8748</td>\n",
       "      <td>3.7182</td>\n",
       "      <td>0.4554</td>\n",
       "      <td>3.7173</td>\n",
       "      <td>1.1159</td>\n",
       "      <td>106.7317</td>\n",
       "      <td>566.8963</td>\n",
       "    </tr>\n",
       "    <tr>\n",
       "      <th>std</th>\n",
       "      <td>55489.2595</td>\n",
       "      <td>936.4071</td>\n",
       "      <td>0.6088</td>\n",
       "      <td>2.4605</td>\n",
       "      <td>1.3740</td>\n",
       "      <td>3.4289</td>\n",
       "      <td>100.1418</td>\n",
       "      <td>531.9384</td>\n",
       "    </tr>\n",
       "    <tr>\n",
       "      <th>min</th>\n",
       "      <td>1.0000</td>\n",
       "      <td>3.0000</td>\n",
       "      <td>1.0000</td>\n",
       "      <td>0.0000</td>\n",
       "      <td>1.0000</td>\n",
       "      <td>-1.0000</td>\n",
       "      <td>0.0000</td>\n",
       "      <td>0.0000</td>\n",
       "    </tr>\n",
       "    <tr>\n",
       "      <th>25%</th>\n",
       "      <td>48570.0000</td>\n",
       "      <td>81.0000</td>\n",
       "      <td>3.5000</td>\n",
       "      <td>0.0000</td>\n",
       "      <td>3.0000</td>\n",
       "      <td>0.0000</td>\n",
       "      <td>41.0000</td>\n",
       "      <td>220.0000</td>\n",
       "    </tr>\n",
       "    <tr>\n",
       "      <th>50%</th>\n",
       "      <td>96802.0000</td>\n",
       "      <td>217.0000</td>\n",
       "      <td>4.0000</td>\n",
       "      <td>0.0000</td>\n",
       "      <td>4.0000</td>\n",
       "      <td>0.0000</td>\n",
       "      <td>75.0000</td>\n",
       "      <td>399.0000</td>\n",
       "    </tr>\n",
       "    <tr>\n",
       "      <th>75%</th>\n",
       "      <td>144902.0000</td>\n",
       "      <td>527.0000</td>\n",
       "      <td>4.0000</td>\n",
       "      <td>0.0000</td>\n",
       "      <td>5.0000</td>\n",
       "      <td>1.0000</td>\n",
       "      <td>137.0000</td>\n",
       "      <td>726.0000</td>\n",
       "    </tr>\n",
       "    <tr>\n",
       "      <th>max</th>\n",
       "      <td>192603.0000</td>\n",
       "      <td>8348.0000</td>\n",
       "      <td>5.0000</td>\n",
       "      <td>1290.0000</td>\n",
       "      <td>5.0000</td>\n",
       "      <td>1241.0000</td>\n",
       "      <td>1040.0000</td>\n",
       "      <td>4951.0000</td>\n",
       "    </tr>\n",
       "  </tbody>\n",
       "</table>\n",
       "</div>"
      ],
      "text/plain": [
       "       Unnamed: 0_x  review_count      stars_x        funny      stars_y  \\\n",
       "count  4201683.0000  4201683.0000 4201683.0000 4201683.0000 4201683.0000   \n",
       "mean     96644.3092      522.8748       3.7182       0.4554       3.7173   \n",
       "std      55489.2595      936.4071       0.6088       2.4605       1.3740   \n",
       "min          1.0000        3.0000       1.0000       0.0000       1.0000   \n",
       "25%      48570.0000       81.0000       3.5000       0.0000       3.0000   \n",
       "50%      96802.0000      217.0000       4.0000       0.0000       4.0000   \n",
       "75%     144902.0000      527.0000       4.0000       0.0000       5.0000   \n",
       "max     192603.0000     8348.0000       5.0000    1290.0000       5.0000   \n",
       "\n",
       "            useful  num_words_review  text length  \n",
       "count 4201682.0000      4201683.0000 4201683.0000  \n",
       "mean        1.1159          106.7317     566.8963  \n",
       "std         3.4289          100.1418     531.9384  \n",
       "min        -1.0000            0.0000       0.0000  \n",
       "25%         0.0000           41.0000     220.0000  \n",
       "50%         0.0000           75.0000     399.0000  \n",
       "75%         1.0000          137.0000     726.0000  \n",
       "max      1241.0000         1040.0000    4951.0000  "
      ]
     },
     "execution_count": 52,
     "metadata": {},
     "output_type": "execute_result"
    }
   ],
   "source": [
    "result.describe()"
   ]
  },
  {
   "cell_type": "code",
   "execution_count": 32,
   "metadata": {},
   "outputs": [
    {
     "data": {
      "text/plain": [
       "<seaborn.axisgrid.FacetGrid at 0x24e5def98>"
      ]
     },
     "execution_count": 32,
     "metadata": {},
     "output_type": "execute_result"
    },
    {
     "data": {
      "image/png": "[encoded data removed]",
      "text/plain": [
       "<Figure size 648x216 with 3 Axes>"
      ]
     },
     "metadata": {
      "needs_background": "light"
     },
     "output_type": "display_data"
    }
   ],
   "source": [
    "# COMPARING TEXT LENGTH TO STARS\n",
    "graph = sns.FacetGrid(data=result,col='labels')\n",
    "graph.map(plt.hist,'text length',bins=50)"
   ]
  },
  {
   "cell_type": "code",
   "execution_count": 33,
   "metadata": {},
   "outputs": [
    {
     "data": {
      "text/plain": [
       "<matplotlib.axes._subplots.AxesSubplot at 0x2511e5630>"
      ]
     },
     "execution_count": 33,
     "metadata": {},
     "output_type": "execute_result"
    },
    {
     "data": {
      "image/png": "[encoded data removed]",
      "text/plain": [
       "<Figure size 432x288 with 1 Axes>"
      ]
     },
     "metadata": {
      "needs_background": "light"
     },
     "output_type": "display_data"
    }
   ],
   "source": [
    "sns.boxplot(x='labels', y='text length', data=result)"
   ]
  },
  {
   "cell_type": "code",
   "execution_count": 34,
   "metadata": {},
   "outputs": [],
   "source": [
    "text = result['removed_punct_text']\n",
    "star = result['labels']"
   ]
  },
  {
   "cell_type": "code",
   "execution_count": 35,
   "metadata": {},
   "outputs": [],
   "source": [
    "texts = text[:10000]\n",
    "stars = star[:10000]"
   ]
  },
  {
   "cell_type": "code",
   "execution_count": 36,
   "metadata": {},
   "outputs": [
    {
     "data": {
      "text/plain": [
       "10000"
      ]
     },
     "execution_count": 36,
     "metadata": {},
     "output_type": "execute_result"
    }
   ],
   "source": [
    "len(texts)"
   ]
  },
  {
   "cell_type": "code",
   "execution_count": 37,
   "metadata": {},
   "outputs": [
    {
     "data": {
      "text/plain": [
       "10000"
      ]
     },
     "execution_count": 37,
     "metadata": {},
     "output_type": "execute_result"
    }
   ],
   "source": [
    "len(stars)"
   ]
  },
  {
   "cell_type": "code",
   "execution_count": 38,
   "metadata": {},
   "outputs": [
    {
     "name": "stdout",
     "output_type": "stream",
     "text": [
      "Counter({'positive': 6561, 'negative': 2081, 'neutral': 1358})\n"
     ]
    }
   ],
   "source": [
    "print(Counter(stars))"
   ]
  },
  {
   "cell_type": "code",
   "execution_count": 39,
   "metadata": {},
   "outputs": [
    {
     "name": "stdout",
     "output_type": "stream",
     "text": [
      "0:00:03.010425\n"
     ]
    }
   ],
   "source": [
    "# This vectorizer breaks text into single words and bi-grams\n",
    "# and then calculates the TF-IDF representation\n",
    "\n",
    "#vectorizer = CountVectorizer(stop_words='english')\n",
    "#vectorizer = TfidfVectorizer(ngram_range=(1,2)) #,stop_words='english')\n",
    "vectorizer = TfidfVectorizer(sublinear_tf=True, min_df=5, norm='l2', encoding='latin-1', ngram_range=(1, 2), stop_words='english')\n",
    "t1 = datetime.now()\n",
    " \n",
    "# the 'fit' builds up the vocabulary from all the reviews\n",
    "# while the 'transform' step turns each indivdual text into\n",
    "# a matrix of numbers.\n",
    "vectors = vectorizer.fit_transform(texts)\n",
    "print(datetime.now() - t1)"
   ]
  },
  {
   "cell_type": "code",
   "execution_count": 40,
   "metadata": {},
   "outputs": [],
   "source": [
    "X_train, X_test, y_train, y_test = train_test_split(vectors, stars, test_size=0.2, random_state=42)"
   ]
  },
  {
   "cell_type": "code",
   "execution_count": 41,
   "metadata": {
    "scrolled": true
   },
   "outputs": [
    {
     "name": "stdout",
     "output_type": "stream",
     "text": [
      "0:00:00.377808\n"
     ]
    }
   ],
   "source": [
    "# initialise the SVM classifier\n",
    "classifier = LinearSVC()\n",
    " \n",
    "# train the classifier\n",
    "t1 = datetime.now()\n",
    "classifier.fit(X_train, y_train)\n",
    "print(datetime.now() - t1)"
   ]
  },
  {
   "cell_type": "code",
   "execution_count": 42,
   "metadata": {
    "scrolled": true
   },
   "outputs": [
    {
     "name": "stdout",
     "output_type": "stream",
     "text": [
      "['negative' 'positive' 'negative' 'negative' 'positive' 'positive'\n",
      " 'positive' 'negative' 'positive' 'positive']\n",
      "6252    negative\n",
      "4684     neutral\n",
      "1731    negative\n",
      "4742    negative\n",
      "4521    positive\n",
      "6340    positive\n",
      "576     positive\n",
      "5202    negative\n",
      "6363    positive\n",
      "439     positive\n",
      "Name: labels, dtype: object\n"
     ]
    }
   ],
   "source": [
    "preds = classifier.predict(X_test)\n",
    "print((preds[:10]))\n",
    "print((y_test[:10]))"
   ]
  },
  {
   "cell_type": "code",
   "execution_count": 43,
   "metadata": {},
   "outputs": [
    {
     "data": {
      "text/plain": [
       "array([0.81218781, 0.7895    , 0.7195    , 0.8014007 , 0.7853927 ])"
      ]
     },
     "execution_count": 43,
     "metadata": {},
     "output_type": "execute_result"
    }
   ],
   "source": [
    "scores = cross_val_score(classifier, vectors, stars, cv=5)\n",
    "scores"
   ]
  },
  {
   "cell_type": "code",
   "execution_count": 44,
   "metadata": {},
   "outputs": [
    {
     "name": "stdout",
     "output_type": "stream",
     "text": [
      "              precision    recall  f1-score   support\n",
      "\n",
      "    negative       0.80      0.75      0.77       439\n",
      "     neutral       0.47      0.23      0.31       268\n",
      "    positive       0.84      0.95      0.89      1293\n",
      "\n",
      "   micro avg       0.81      0.81      0.81      2000\n",
      "   macro avg       0.70      0.64      0.66      2000\n",
      "weighted avg       0.78      0.81      0.79      2000\n",
      "\n"
     ]
    }
   ],
   "source": [
    "from sklearn.metrics import classification_report\n",
    "print(classification_report(y_test, preds))"
   ]
  },
  {
   "cell_type": "code",
   "execution_count": 45,
   "metadata": {},
   "outputs": [
    {
     "name": "stdout",
     "output_type": "stream",
     "text": [
      "0.807\n"
     ]
    }
   ],
   "source": [
    "from sklearn.metrics import accuracy_score\n",
    "print(accuracy_score(y_test, preds))"
   ]
  },
  {
   "cell_type": "code",
   "execution_count": 46,
   "metadata": {},
   "outputs": [
    {
     "name": "stdout",
     "output_type": "stream",
     "text": [
      "[[ 329   35   75]\n",
      " [  47   61  160]\n",
      " [  36   33 1224]]\n"
     ]
    }
   ],
   "source": [
    "from sklearn.metrics import confusion_matrix\n",
    "print(confusion_matrix(y_test, preds))"
   ]
  },
  {
   "cell_type": "code",
   "execution_count": 92,
   "metadata": {},
   "outputs": [
    {
     "name": "stdout",
     "output_type": "stream",
     "text": [
      "Opposite Reviews :\n",
      "1. my family and i were at emerald yesterday during the busiest point of dim sum traffic all i can say is it is total mayhem there weren't any lines during the time we were there but i believe that is because they churn through customers in a manner i have never seen before the tables are smooshed together to get as many in and out quickly i can't really blame them i get it when you have a good thing capitalize on it though this atmosphere creates a bit of a frantic assembly line feel that i don't particularly find enjoyablethere is no denying that the food at emerald is pretty good when it comes to dim sum they stand out among the rest as they offer way more options than any other restaurant their offerings are unique and plentiful in size but not in overall temperature of dish only 1 of the dishes we received were actually the temperature it needed to be again a symptom of the style of restaurant service was perfunctory at best cart servers were like street corner merchants hawking their wares actually placing items on the table while explaining why you simply needed to have it in as few words as possibleoverall 3 stars is being a little more generous than i should be but the food is actually not bad\n",
      "predicted score:  negative\n",
      "\n",
      "2. came on a weekday morning with bf to avoid the weekend crowds and we definitely enjoyed our experience herefood 55ordered a bunch our staples lotus leaf wrapped sausage and sticky rice preserved egg congee egg yolk bun and they were all pretty bombemployees were walking around with carts full of dim sums super cantonese stylesome items in the cart are off the menuservice 55super friendly and funny staffswilling to explain everything despite the language barrierenvironment 35bit outdatedlobby and washroom are particularly sketchyoverall 45 will returnand we were told on weekends there are a more variety of dim sums\n",
      "predicted score:  positive\n",
      "\n",
      "3. traditional and authentic dim sum i couldn't believe i walked in a 3pm on a weekday and there were carts full of dim sum lots to choose from and new dumplings i never tried mighty impressed by taste but when the bill came i was shocked 30 for 5 items ah well ya live once i'm going back\n",
      "predicted score:  positive\n",
      "\n",
      "4. poor service overpriced food  make sure to check your dim sum bill  they tried cheating me and making things more expensive  very dishonest business and would not go back\n",
      "predicted score:  positive\n",
      "\n",
      "5. this is the second time i've ever been here and i was quickly reminded why i didn't come back after the first time i came on a weekend after the lunch rush so the restaurant wasn't busy at all most of the dim sum i ordered i noticed was just pulled from a sitting cart so it needed to be warmed up  i believe they had to microwave it the food is normal you can get the same taste and quality type food at other dim sum restaurants and pay literally half the price some dim sum items are 6 a plate which i don't think is justifiable at all when i can get the same dish and portion size elsewhere for half the cost i almost fell off my chair when my 70 bill for 2 people arrived at the table i won't be returning here and wouldn't recommend my friends to go here it's way overpriced\n",
      "predicted score:  negative\n"
     ]
    }
   ],
   "source": [
    "print(\"Opposite Reviews :\")\n",
    "print(\"1.\" ,texts[8])\n",
    "print(\"predicted score: \" ,preds[7])\n",
    "#print(\"actual score: \" ,y_test[7])\n",
    "print(\"\")\n",
    "print(\"2.\" ,texts[11])\n",
    "print(\"predicted score: \" ,preds[10])\n",
    "#print(\"actual score: \" ,y_test[10])\n",
    "print(\"\")\n",
    "print(\"3.\" ,texts[17])\n",
    "print(\"predicted score: \" ,preds[16])\n",
    "#print(\"actual score: \" ,y_test[16])\n",
    "print(\"\")\n",
    "print(\"4.\" ,texts[18])\n",
    "print(\"predicted score: \" ,preds[17])\n",
    "#print(\"actual score: \" ,y_test[17])\n",
    "print(\"\")\n",
    "print(\"5.\" ,texts[19])\n",
    "print(\"predicted score: \" ,preds[18])\n",
    "#print(\"actual score: \" ,y_test[18])"
   ]
  },
  {
   "cell_type": "code",
   "execution_count": 91,
   "metadata": {},
   "outputs": [
    {
     "name": "stdout",
     "output_type": "stream",
     "text": [
      "Matching Reviews : \n",
      "1. horrible servicei went there tonight with my boyfriend because hes passed by the place a couple of times and we wanted to try it out we orders bok choy chicken fried rice and some lemon chicken when we got our food the chicken was hard and looked old like it had been refried so i complained to the server he didn't even acknowledge my complaint and just left i told another server and he told me that  this is how they make it and left without even offering to provide a new one finally a women server offered to get a new one and even agreed with us that it was old but it took about 20 minutes and all we had was the rice and bok choy by the time they brought it out we just weren't hungry anymore considering we did not want to eat the chicken by itself and our rice was already cold only exception is the sweet older lady who served us the rest of servers were rude one server even went to the table beside us to check the bill to see how much tip a couple had gave after they left we heard him mention tip as he looked at the bill and threw it back down angry disgusting will not return\n",
      "predicted score:  negative\n",
      "\n",
      "2. i've been a frequent at this place for years enough that the managers pretty much recognize my whole family and i have to say this is probably my favorite chinese place for lunchfirst of all the place is huge my relatives have booked this place as a venue for weddings events gatherings and we usually get a good experience on some days when you come at a busy time it's not that bad of a wait because of how many tables there are i remember waiting in a line past the door a few times to be seated but maybe this has changedfood i honestly think it's great here though it is a bit expensive for what it offers i prefer the lunch dim sum letting them wheel carts as you take your pick it's nice because i'm definitely not a decisive person so i usually just get the tastiest looking stuff on the carts a favorite is the crap shrimp ball things  lol the siu mai dumplings they're all very good i also love the green vegetable plates or the scallops here they're cooked well and i've never had any rubbery or overcooked meatservice is all pretty good too imo a lot of the cart ladies speak broken english and a bit of a vietnamese so it's not too hard for us they're usually fast too bringing drinkssaucesplates when we ask right away i would definitely recommend this place to people the reason it's a 4 is because i find the dinner experience to be a bit disappointing often our dishes are just warm or sometimes cool when we order them however i love coming back at lunch i think the dim sum is a fun and tasty experience actually i go almost every week and i've not noticed any drop in quality so this place will probably remain my goto chinese lunch for now\n",
      "predicted score:  positive\n",
      "\n",
      "3. i went at 230 on a monday it was dimsum i hated every second i was there the carts were going around but the ladies kept ignoring us and i don't understand why we got gar how  a spinach dumpling after that not a single cart were go by and we sat for so long till i finally i gave up we went to pay and it was 14 which is soooo high for what we got  i'll never ever go back  food was good though\n",
      "predicted score:  positive\n",
      "\n",
      "4. whenever i go here on the weekend this place is super busy  expect to wait about 30 minutes for a table  this place is also mutliethnic  you will see people of all different races coming here  this place is one of the chinese dim sum restaurants that white people like to come to  the food is decent but it is pricey  you can find much cheaper dim sum places elsewhere but if you don't speak chinese you will be more comfortable coming here sometimes depending on what time you come here there will be barely any food coming around derek\n",
      "predicted score:  positive\n",
      "\n",
      "5. despite the poor service here my family comes here for special occasions because the quality of their dishes is pretty decent there is a wide variety of dishes and you can also order a 10course meal if you'd like the dim sum menu is also very selectivebut as mentioned the service is terrible you'll expect to wait 2030 mins for your food especially if you come with a large group i know you cant expect good service from an asian restaurant but i'm used to the quick eat in and out type of meal and it's definitely subpar service here the waiters are also not very friendly and give you attitude when you ask when your food is comingi only give this restaurant 2 stars because the ambience of the restaurant is nice and the qualityselection of food is good\n",
      "predicted score:  negative\n"
     ]
    }
   ],
   "source": [
    "print(\"Matching Reviews : \")\n",
    "print(\"1.\" ,texts[3])\n",
    "print(\"predicted score: \" ,preds[2])\n",
    "#print(\"actual score: \" ,y_test[2])\n",
    "print(\"\")\n",
    "print(\"2.\" ,texts[5])\n",
    "print(\"predicted score: \" ,preds[4])\n",
    "#print(\"actual score: \" ,y_test[4])\n",
    "print(\"\")\n",
    "print(\"3.\" ,texts[7])\n",
    "print(\"predicted score: \" ,preds[6])\n",
    "#print(\"actual score: \" ,y_test[6])\n",
    "print(\"\")\n",
    "print(\"4.\" ,texts[10])\n",
    "print(\"predicted score: \" ,preds[9])\n",
    "#print(\"actual score: \" ,y_test[9])\n",
    "print(\"\")\n",
    "print(\"5.\" ,texts[12])\n",
    "print(\"predicted score: \" ,preds[12])\n",
    "#print(\"actual score: \" ,y_test[12])"
   ]
  },
  {
   "cell_type": "code",
   "execution_count": null,
   "metadata": {},
   "outputs": [],
   "source": []
  }
 ],
 "metadata": {
  "kernelspec": {
   "display_name": "Python 3",
   "language": "python",
   "name": "python3"
  },
  "language_info": {
   "codemirror_mode": {
    "name": "ipython",
    "version": 3
   },
   "file_extension": ".py",
   "mimetype": "text/x-python",
   "name": "python",
   "nbconvert_exporter": "python",
   "pygments_lexer": "ipython3",
   "version": "3.7.0"
  }
 },
 "nbformat": 4,
 "nbformat_minor": 2
}
